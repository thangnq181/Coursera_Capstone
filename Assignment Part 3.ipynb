{
    "cells": [
        {
            "metadata": {},
            "cell_type": "code",
            "source": "!conda install -c conda-forge folium --yes",
            "execution_count": 1,
            "outputs": [
                {
                    "output_type": "stream",
                    "text": "Solving environment: done\n\n## Package Plan ##\n\n  environment location: /opt/conda/envs/Python36\n\n  added / updated specs: \n    - folium\n\n\nThe following packages will be downloaded:\n\n    package                    |            build\n    ---------------------------|-----------------\n    vincent-0.4.4              |             py_1          28 KB  conda-forge\n    branca-0.3.1               |             py_0          25 KB  conda-forge\n    openssl-1.1.1d             |       h516909a_0         2.1 MB  conda-forge\n    ca-certificates-2019.9.11  |       hecc5488_0         144 KB  conda-forge\n    certifi-2019.9.11          |           py36_0         147 KB  conda-forge\n    folium-0.10.0              |             py_1          59 KB  conda-forge\n    ------------------------------------------------------------\n                                           Total:         2.5 MB\n\nThe following NEW packages will be INSTALLED:\n\n    branca:          0.3.1-py_0        conda-forge\n    folium:          0.10.0-py_1       conda-forge\n    vincent:         0.4.4-py_1        conda-forge\n\nThe following packages will be UPDATED:\n\n    certifi:         2019.9.11-py36_0              --> 2019.9.11-py36_0     conda-forge\n\nThe following packages will be DOWNGRADED:\n\n    ca-certificates: 2019.10.16-0                  --> 2019.9.11-hecc5488_0 conda-forge\n    openssl:         1.1.1d-h7b6447c_3             --> 1.1.1d-h516909a_0    conda-forge\n\n\nDownloading and Extracting Packages\nvincent-0.4.4        | 28 KB     | ##################################### | 100% \nbranca-0.3.1         | 25 KB     | ##################################### | 100% \nopenssl-1.1.1d       | 2.1 MB    | ##################################### | 100% \nca-certificates-2019 | 144 KB    | ##################################### | 100% \ncertifi-2019.9.11    | 147 KB    | ##################################### | 100% \nfolium-0.10.0        | 59 KB     | ##################################### | 100% \nPreparing transaction: done\nVerifying transaction: done\nExecuting transaction: done\n",
                    "name": "stdout"
                }
            ]
        },
        {
            "metadata": {},
            "cell_type": "code",
            "source": "import pandas as pd\nimport numpy as np\nfrom bs4 import BeautifulSoup\nimport requests\n\nwiki_page = requests.get('https://en.wikipedia.org/wiki/List_of_postal_codes_of_Canada:_M').text\nextract_table = BeautifulSoup(wiki_page,'lxml')\noutput_table = str(extract_table.table)\ntemp_df = pd.read_html(output_table)\nneighbor_df=temp_df[0]\n#neighbor_df.head(10)\n\ntemp_df1 = neighbor_df[neighbor_df.Borough != 'Not assigned']\n\ntemp_df2 = temp_df1.groupby(['Postcode','Borough'], sort=False).agg(', '.join)\ntemp_df2.reset_index(inplace=True)\n\ntemp_df2['Neighbourhood'] = np.where(temp_df2['Neighbourhood'] == 'Not assigned',temp_df2['Borough'], temp_df2['Neighbourhood'])\n#temp_df2.head(10)\n#temp_df2.shape\n\nlocation_info = pd.read_csv('https://cocl.us/Geospatial_data', header=0)\nlocation_info.rename(columns={'Postal Code':'Postcode'}, inplace=True)\n\nfinal_df=pd.merge(temp_df2,location_info, on='Postcode')\n\nfinal_df.head(10)",
            "execution_count": null,
            "outputs": []
        },
        {
            "metadata": {},
            "cell_type": "markdown",
            "source": "Create another dataframe where each row contains Toronto in the \"Borough\" column."
        },
        {
            "metadata": {},
            "cell_type": "code",
            "source": "only_toronto_borough = final_df[final_df['Borough'].str.contains('Toronto',regex=False)]\nonly_toronto_borough.head()",
            "execution_count": null,
            "outputs": []
        },
        {
            "metadata": {},
            "cell_type": "markdown",
            "source": "apply KNN clustering to the a new dataframe \"five_clusters\" with 5 clusters. Since Postcode, Borough, and Neighborhood are not numbers, we drop them in the new dataframe, and only the location longitude and latitude data are sufficient for clsutering purpose. After clustering, we insert the cluster labels to the original dataframe \"only_toronto_borough\"."
        },
        {
            "metadata": {},
            "cell_type": "code",
            "source": "from sklearn.cluster import KMeans\nk=5\nfive_clusters = only_toronto_borough.drop(['Postcode','Borough','Neighbourhood'],1)\nkmeans = KMeans(n_clusters = k,random_state=0).fit(five_clusters)\nonly_toronto_borough.insert(0, 'Cluster Labels', kmeans.labels_)",
            "execution_count": null,
            "outputs": []
        },
        {
            "metadata": {},
            "cell_type": "markdown",
            "source": "view the five clusters on the map"
        },
        {
            "metadata": {},
            "cell_type": "code",
            "source": "import folium\nimport matplotlib.colors as colors\nimport matplotlib.cm as cm\n# create map\nmap_clusters = folium.Map(location=[43.651070,-79.347015],zoom_start=12)\n\n# set color scheme for the clusters\nx = np.arange(k)\nys = [i + x + (i*x)**2 for i in range(k)]\ncolors_array = cm.rainbow(np.linspace(0, 1, len(ys)))\nrainbow = [colors.rgb2hex(i) for i in colors_array]\n\n# add markers to the map\nmarkers_colors = []\nfor lat, lon, neighbourhood, cluster in zip(only_toronto_borough['Latitude'], only_toronto_borough['Longitude'], only_toronto_borough['Neighbourhood'], only_toronto_borough['Cluster Labels']):\n    label = folium.Popup(' Cluster ' + str(cluster), parse_html=True)\n    folium.CircleMarker(\n        [lat, lon],\n        radius=5,\n        popup=label,\n        color=rainbow[cluster-1],\n        fill=True,\n        fill_color=rainbow[cluster-1],\n        fill_opacity=0.7).add_to(map_clusters)\n       \nmap_clusters",
            "execution_count": null,
            "outputs": []
        },
        {
            "metadata": {},
            "cell_type": "code",
            "source": "",
            "execution_count": null,
            "outputs": []
        }
    ],
    "metadata": {
        "kernelspec": {
            "name": "python3",
            "display_name": "Python 3.6",
            "language": "python"
        },
        "language_info": {
            "name": "python",
            "version": "3.6.8",
            "mimetype": "text/x-python",
            "codemirror_mode": {
                "name": "ipython",
                "version": 3
            },
            "pygments_lexer": "ipython3",
            "nbconvert_exporter": "python",
            "file_extension": ".py"
        }
    },
    "nbformat": 4,
    "nbformat_minor": 1
}